{
  "cells": [
    {
      "cell_type": "code",
      "metadata": {
        "collapsed": true,
        "ExecuteTime": {
          "end_time": "2023-10-26T16:32:07.748105900Z",
          "start_time": "2023-10-26T16:32:07.732195300Z"
        }
      },
      "source": [
        "#Import Packages\n",
        "import pandas as pd\n",
        "import numpy as np\n",
        "import matplotlib.pyplot as plt\n",
        "from sklearn.preprocessing import StandardScaler\n",
        "import seaborn as sns\n",
        "import warnings\n",
        "\n",
        "warnings.filterwarnings(\"ignore\", category=FutureWarning)\n",
        "warnings.filterwarnings(\"ignore\", category=UserWarning)\n",
        "sns.set_theme(style=\"darkgrid\")"
      ],
      "id": "0a8738f6",
      "execution_count": null,
      "outputs": []
    },
    {
      "cell_type": "code",
      "metadata": {
        "collapsed": true,
        "ExecuteTime": {
          "end_time": "2023-10-26T15:52:31.912697Z",
          "start_time": "2023-10-26T15:52:31.840067100Z"
        }
      },
      "source": [
        "diamonds = sns.load_dataset('diamonds')\n",
        "print(diamonds.shape)\n",
        "print(diamonds.describe())\n",
        "print(diamonds.head(10))"
      ],
      "id": "97c9ded5",
      "execution_count": null,
      "outputs": []
    },
    {
      "cell_type": "code",
      "metadata": {
        "collapsed": true,
        "ExecuteTime": {
          "end_time": "2023-10-26T16:35:00.031495600Z",
          "start_time": "2023-10-26T16:34:59.143356600Z"
        }
      },
      "source": [
        "sns.histplot(data=diamonds, x='price', kde=True)\n",
        "plt.title('Diamonds Dataset - Price Distribution')\n",
        "plt.ylabel(\"# of sales\")\n",
        "plt.xlabel(\"Price\")\n",
        "plt.grid('both')\n",
        "plt.show()"
      ],
      "id": "7d7cde40",
      "execution_count": null,
      "outputs": []
    },
    {
      "cell_type": "code",
      "metadata": {
        "collapsed": true,
        "ExecuteTime": {
          "end_time": "2023-10-26T16:33:12.952332800Z",
          "start_time": "2023-10-26T16:33:12.777618Z"
        }
      },
      "source": [
        "sns.countplot(data=diamonds, y='cut', order=diamonds['cut'].value_counts().index,\n",
        "              palette=sns.color_palette('flare', 10))\n",
        "plt.title('Diamonds Dataset - sales by cut type')\n",
        "plt.xlabel('# of Sales')\n",
        "plt.ylabel('Cut Type')\n",
        "plt.grid('both')\n",
        "plt.tight_layout()\n",
        "plt.show()"
      ],
      "id": "80fb977e",
      "execution_count": null,
      "outputs": []
    },
    {
      "cell_type": "code",
      "metadata": {
        "collapsed": true,
        "ExecuteTime": {
          "end_time": "2023-10-26T16:33:02.939732500Z",
          "start_time": "2023-10-26T16:33:02.748882100Z"
        }
      },
      "source": [
        "sns.countplot(data=diamonds, y='clarity', \n",
        "              order = diamonds['clarity'].value_counts(ascending=True).index,\n",
        "              palette=sns.color_palette('flare', 10))\n",
        "plt.xlabel('# of Sales')\n",
        "plt.ylabel('Clarity Type')\n",
        "plt.title('Diamonds Dataset - Sales by Clarity Type')\n",
        "plt.grid('both')\n",
        "plt.tight_layout()\n",
        "plt.show()"
      ],
      "id": "33c7f4e8",
      "execution_count": null,
      "outputs": []
    },
    {
      "cell_type": "code",
      "metadata": {
        "collapsed": true,
        "ExecuteTime": {
          "end_time": "2023-10-26T16:32:46.643921Z",
          "start_time": "2023-10-26T16:32:46.499217700Z"
        }
      },
      "source": [
        "sns.countplot(data=diamonds, \n",
        "              x = 'color', \n",
        "              order = diamonds['color'].value_counts(ascending=False).index,\n",
        "              palette=sns.color_palette('flare', 10))\n",
        "plt.ylabel('# of Sales')\n",
        "plt.xlabel('Color')\n",
        "plt.grid('both')\n",
        "plt.tight_layout()\n",
        "plt.show()"
      ],
      "id": "c62c47b9",
      "execution_count": null,
      "outputs": []
    },
    {
      "cell_type": "code",
      "metadata": {
        "collapsed": true,
        "ExecuteTime": {
          "end_time": "2023-10-26T17:33:51.778661100Z",
          "start_time": "2023-10-26T17:33:51.124834300Z"
        }
      },
      "source": [
        "sns.kdeplot(diamonds, x='price', hue='color', common_norm=False)\n",
        "plt.show()"
      ],
      "id": "7033b415",
      "execution_count": null,
      "outputs": []
    },
    {
      "cell_type": "code",
      "metadata": {
        "collapsed": true,
        "ExecuteTime": {
          "end_time": "2023-10-26T17:40:50.068908900Z",
          "start_time": "2023-10-26T17:40:50.050214200Z"
        }
      },
      "source": [
        "diamonds['clarity'].value_counts(ascending=False)"
      ],
      "id": "18024fc5",
      "execution_count": null,
      "outputs": []
    },
    {
      "cell_type": "code",
      "metadata": {
        "collapsed": true,
        "ExecuteTime": {
          "end_time": "2023-10-26T17:40:55.190610Z",
          "start_time": "2023-10-26T17:40:55.132117500Z"
        }
      },
      "source": [
        "diamonds['color'].value_counts(ascending=False)"
      ],
      "id": "41b10965",
      "execution_count": null,
      "outputs": []
    },
    {
      "cell_type": "code",
      "metadata": {
        "collapsed": true,
        "ExecuteTime": {
          "end_time": "2023-10-26T17:40:58.033141600Z",
          "start_time": "2023-10-26T17:40:57.971438500Z"
        }
      },
      "source": [
        "diamonds['cut'].value_counts(ascending=False)"
      ],
      "id": "e51cd654",
      "execution_count": null,
      "outputs": []
    },
    {
      "cell_type": "code",
      "metadata": {
        "collapsed": true,
        "ExecuteTime": {
          "end_time": "2023-10-26T17:48:46.755062600Z",
          "start_time": "2023-10-26T17:48:46.114742400Z"
        }
      },
      "source": [
        "# Analyzing distribution of numeric features with histogram plot\n",
        "sns.set_theme(style=\"whitegrid\")\n",
        "diamonds.hist(bins=50, figsize=(12, 8))\n",
        "plt.show()"
      ],
      "id": "93ef4ae0",
      "execution_count": null,
      "outputs": []
    },
    {
      "cell_type": "code",
      "metadata": {
        "collapsed": true,
        "ExecuteTime": {
          "end_time": "2023-10-26T17:50:05.717996200Z",
          "start_time": "2023-10-26T17:50:05.700818800Z"
        }
      },
      "source": [
        "corr_matrix = diamonds.select_dtypes(np.number).corr()"
      ],
      "id": "fbc75033",
      "execution_count": null,
      "outputs": []
    },
    {
      "cell_type": "code",
      "metadata": {
        "collapsed": true,
        "ExecuteTime": {
          "end_time": "2023-10-26T17:50:37.123589900Z",
          "start_time": "2023-10-26T17:50:37.107829500Z"
        }
      },
      "source": [
        "corr_matrix['price'].sort_values(ascending=False)"
      ],
      "id": "0a067505",
      "execution_count": null,
      "outputs": []
    },
    {
      "cell_type": "code",
      "metadata": {
        "collapsed": true,
        "ExecuteTime": {
          "end_time": "2023-10-26T18:47:58.235267500Z",
          "start_time": "2023-10-26T18:47:52.530949500Z"
        }
      },
      "source": [
        "from pandas.plotting import scatter_matrix\n",
        "scatter_matrix(diamonds[['price', 'carat', 'x', 'y', 'z', 'table', 'depth']], figsize=(15, 10))\n",
        "plt.show()"
      ],
      "id": "487c4efe",
      "execution_count": null,
      "outputs": []
    },
    {
      "cell_type": "code",
      "metadata": {
        "collapsed": true,
        "ExecuteTime": {
          "end_time": "2023-10-26T19:17:11.185590800Z",
          "start_time": "2023-10-26T19:13:11.337356900Z"
        }
      },
      "source": [
        "from prettytable import PrettyTable\n",
        "def pretty_printing_function(correlation_name, row_values, column_names):\n",
        "    summary_table = PrettyTable()\n",
        "    summary_table.title = f\"{correlation_name} Correlation Matrix for the tute1 dataset\"\n",
        "    column_names = [f'Feature({chr(0x2193)})/({chr(0x2192)})'] + column_names\n",
        "    summary_table.field_names = column_names\n",
        "    for i in range(len(row_values)):\n",
        "        row_index = column_names[i+1]\n",
        "        row_values[i] = [row_index] + row_values[i]\n",
        "        summary_table.add_row(row_values[i])\n",
        "    print(summary_table)\n",
        "\n",
        "\n",
        "def calc_pearson_corr(x, y, N):\n",
        "    numerator_sum = 0.0; denomnator1_sum = 0.0; denomnator2_sum = 0.0\n",
        "    x_mean = np.mean(x)\n",
        "    y_mean = np.mean(y)\n",
        "    for i in range(N):\n",
        "        x_diff = x[i] - x_mean\n",
        "        y_diff = y[i] - y_mean\n",
        "        numerator_sum += (x_diff * y_diff)\n",
        "        denomnator1_sum += np.power(x_diff, 2)\n",
        "        denomnator2_sum += np.power(y_diff, 2)\n",
        "    pearson_corrcoef = numerator_sum/(np.sqrt(denomnator1_sum)*np.sqrt(denomnator2_sum))\n",
        "    return round(pearson_corrcoef, 2)\n",
        "\n",
        "\n",
        "def calc_partial_corr(x, y, z):\n",
        "    r_xy = calc_pearson_corr(x, y, len(diamonds))\n",
        "    r_xz = calc_pearson_corr(x, z, len(diamonds))\n",
        "    r_yz = calc_pearson_corr(y, z, len(diamonds))\n",
        "    partial_corr = (r_xy - (r_xz*r_yz)) / (np.sqrt(1 - r_xz**2) * np.sqrt(1 - r_yz**2))\n",
        "    return round(partial_corr, 2)\n",
        "\n",
        "\n",
        "diamonds_numeric = diamonds.select_dtypes(np.number)\n",
        "def calc_partial_correlation():\n",
        "    summary_df = pd.DataFrame(columns = diamonds_numeric.columns, index = diamonds_numeric.columns)\n",
        "    for col1 in diamonds_numeric.columns:\n",
        "        for col2 in diamonds_numeric.columns:\n",
        "            if col1 == col2:\n",
        "                summary_df.loc[col1, col2] = 1.0\n",
        "            else:\n",
        "                other_columns = list(set(diamonds_numeric.columns) - set([col1, col2]))\n",
        "                for col3 in other_columns:\n",
        "                    summary_df.loc[col1, col2] = calc_partial_corr(diamonds_numeric[col1], diamonds_numeric[col2], diamonds_numeric[col3])\n",
        "    pretty_printing_function(\"Partial\", summary_df.values.tolist(), column_names=list(summary_df.columns))\n",
        "    return summary_df\n",
        "\n",
        "calc_partial_correlation()"
      ],
      "id": "936ca041",
      "execution_count": null,
      "outputs": []
    },
    {
      "cell_type": "code",
      "metadata": {
        "collapsed": true,
        "ExecuteTime": {
          "end_time": "2023-10-26T19:56:20.076654700Z",
          "start_time": "2023-10-26T19:56:19.898683400Z"
        }
      },
      "source": [
        "diamonds.plot(kind=\"scatter\", x=\"price\", y=\"carat\",\n",
        "             alpha=0.07, grid=True)\n",
        "plt.show()"
      ],
      "id": "df35e0bb",
      "execution_count": null,
      "outputs": []
    },
    {
      "cell_type": "code",
      "metadata": {
        "collapsed": true,
        "ExecuteTime": {
          "end_time": "2023-10-26T19:57:20.239470600Z",
          "start_time": "2023-10-26T19:57:20.176523500Z"
        }
      },
      "source": [
        "diamonds.shape\n",
        "diamonds.head(10)"
      ],
      "id": "6aa43ddf",
      "execution_count": null,
      "outputs": []
    },
    {
      "cell_type": "code",
      "metadata": {
        "collapsed": true,
        "ExecuteTime": {
          "end_time": "2023-10-26T20:34:28.761383700Z",
          "start_time": "2023-10-26T20:34:28.729891800Z"
        }
      },
      "source": [
        "# One-hot encode the categorical variabled before feeding into linear model\n",
        "from sklearn.preprocessing import OneHotEncoder\n",
        "\n",
        "diamonds_cut = diamonds[['cut']]\n",
        "\n",
        "enc = OneHotEncoder(handle_unknown='ignore')\n",
        "diamonds_cuts_onehot = enc.fit_transform(diamonds_cut)"
      ],
      "id": "8cb34984",
      "execution_count": null,
      "outputs": []
    },
    {
      "cell_type": "code",
      "metadata": {
        "collapsed": true,
        "ExecuteTime": {
          "end_time": "2023-10-26T20:35:01.475584200Z",
          "start_time": "2023-10-26T20:35:01.455234Z"
        }
      },
      "source": [
        "enc.categories_"
      ],
      "id": "37890904",
      "execution_count": null,
      "outputs": []
    },
    {
      "cell_type": "code",
      "metadata": {
        "collapsed": true,
        "ExecuteTime": {
          "end_time": "2023-10-26T20:35:07.057193100Z",
          "start_time": "2023-10-26T20:35:07.041259600Z"
        }
      },
      "source": [
        "enc.get_feature_names_out()"
      ],
      "id": "c8627529",
      "execution_count": null,
      "outputs": []
    },
    {
      "cell_type": "code",
      "metadata": {
        "collapsed": true,
        "ExecuteTime": {
          "end_time": "2023-10-26T20:35:49.300424200Z",
          "start_time": "2023-10-26T20:35:49.253212300Z"
        }
      },
      "source": [
        "diamonds_cuts_onehot.toarray()"
      ],
      "id": "8a355701",
      "execution_count": null,
      "outputs": []
    },
    {
      "cell_type": "code",
      "metadata": {
        "collapsed": true,
        "ExecuteTime": {
          "end_time": "2023-10-26T20:58:46.490822300Z",
          "start_time": "2023-10-26T20:58:46.455046Z"
        }
      },
      "source": [
        "from sklearn.compose import ColumnTransformer\n",
        "from sklearn.pipeline import make_pipeline\n",
        "from sklearn.impute import SimpleImputer\n",
        "\n",
        "categorical_features = ['cut', 'color', 'clarity']\n",
        "numeric_features = ['x', 'y', 'z', 'carat', 'depth', 'table']\n",
        "\n",
        "numeric_transformer = make_pipeline(SimpleImputer(strategy='median'), StandardScaler())\n",
        "\n",
        "preprocessor = ColumnTransformer(\n",
        "    [\n",
        "        ('num', numeric_transformer, numeric_features),\n",
        "        ('cat', OneHotEncoder(handle_unknown='ignore', sparse_output=False), categorical_features),\n",
        "    ],\n",
        "    verbose_feature_names_out=False\n",
        ")"
      ],
      "id": "f794b7d0",
      "execution_count": null,
      "outputs": []
    },
    {
      "cell_type": "code",
      "metadata": {
        "collapsed": true,
        "ExecuteTime": {
          "end_time": "2023-10-26T20:58:54.129989Z",
          "start_time": "2023-10-26T20:58:54.114063100Z"
        }
      },
      "source": [
        "diamonds_features, diamonds_price = diamonds.loc[:, diamonds.columns != 'price'], diamonds['price']"
      ],
      "id": "95b4aab4",
      "execution_count": null,
      "outputs": []
    },
    {
      "cell_type": "code",
      "metadata": {
        "collapsed": true,
        "ExecuteTime": {
          "end_time": "2023-10-26T20:58:55.560701100Z",
          "start_time": "2023-10-26T20:58:55.558250500Z"
        }
      },
      "source": [
        "diamonds_features.shape"
      ],
      "id": "418a040c",
      "execution_count": null,
      "outputs": []
    },
    {
      "cell_type": "code",
      "metadata": {
        "collapsed": true,
        "ExecuteTime": {
          "end_time": "2023-10-26T20:58:59.711588800Z",
          "start_time": "2023-10-26T20:58:59.679956Z"
        }
      },
      "source": [
        "diamonds_price.shape"
      ],
      "id": "9104044b",
      "execution_count": null,
      "outputs": []
    },
    {
      "cell_type": "code",
      "metadata": {
        "collapsed": true,
        "ExecuteTime": {
          "end_time": "2023-10-26T20:59:01.879385400Z",
          "start_time": "2023-10-26T20:59:01.863274500Z"
        }
      },
      "source": [
        "diamonds_features.head()"
      ],
      "id": "2cf9ab0c",
      "execution_count": null,
      "outputs": []
    },
    {
      "cell_type": "code",
      "metadata": {
        "collapsed": true,
        "ExecuteTime": {
          "end_time": "2023-10-27T04:12:35.470919700Z",
          "start_time": "2023-10-27T04:12:35.391970900Z"
        }
      },
      "source": [
        "from sklearn.model_selection import train_test_split\n",
        "diamonds_features_train, diamonds_features_test, diamonds_price_train, diamonds_price_test = train_test_split(diamonds_features, diamonds_price, test_size=0.25)\n",
        "\n",
        "#print(diamonds_features_train.head(), diamonds_price_train.head())"
      ],
      "id": "d75239b7",
      "execution_count": null,
      "outputs": []
    },
    {
      "cell_type": "code",
      "metadata": {
        "collapsed": true,
        "ExecuteTime": {
          "end_time": "2023-10-27T04:37:18.578767700Z",
          "start_time": "2023-10-27T04:37:18.424856600Z"
        }
      },
      "source": [
        "from sklearn.linear_model import LinearRegression\n",
        "\n",
        "lin_reg = make_pipeline(preprocessor, LinearRegression())\n",
        "lin_reg.fit(diamonds_features_train, diamonds_price_train)"
      ],
      "id": "b8697f51",
      "execution_count": null,
      "outputs": []
    },
    {
      "cell_type": "code",
      "metadata": {
        "collapsed": true,
        "ExecuteTime": {
          "end_time": "2023-10-27T04:38:05.886747500Z",
          "start_time": "2023-10-27T04:38:05.823902900Z"
        }
      },
      "source": [
        "lin_reg[:-1].get_feature_names_out()"
      ],
      "id": "c46553b4",
      "execution_count": null,
      "outputs": []
    },
    {
      "cell_type": "code",
      "metadata": {
        "collapsed": true,
        "ExecuteTime": {
          "end_time": "2023-10-27T04:38:49.389348800Z",
          "start_time": "2023-10-27T04:38:49.006543500Z"
        }
      },
      "source": [
        "lin_reg_input_features = lin_reg[:-1].get_feature_names_out()\n",
        "pd.Series(lin_reg[-1].coef_.ravel(), index=lin_reg_input_features).plot.bar()\n",
        "plt.tight_layout()"
      ],
      "id": "16dae575",
      "execution_count": null,
      "outputs": []
    },
    {
      "cell_type": "code",
      "metadata": {
        "collapsed": true,
        "ExecuteTime": {
          "end_time": "2023-10-27T04:39:03.362019500Z",
          "start_time": "2023-10-27T04:39:03.317344800Z"
        }
      },
      "source": [
        "diamonds_price_predictor = lin_reg.predict(diamonds_features_test)"
      ],
      "id": "ad7e4339",
      "execution_count": null,
      "outputs": []
    },
    {
      "cell_type": "code",
      "metadata": {
        "collapsed": true,
        "ExecuteTime": {
          "end_time": "2023-10-27T04:39:05.682923900Z",
          "start_time": "2023-10-27T04:39:05.650950500Z"
        }
      },
      "source": [
        "lin_reg[-1].coef_"
      ],
      "id": "b8983e1b",
      "execution_count": null,
      "outputs": []
    },
    {
      "cell_type": "code",
      "metadata": {
        "collapsed": true,
        "ExecuteTime": {
          "end_time": "2023-10-27T04:39:10.101743800Z",
          "start_time": "2023-10-27T04:39:10.073130800Z"
        }
      },
      "source": [
        "from sklearn.metrics import mean_squared_error, r2_score\n",
        "\n",
        "print(\"Mean Squared Error: %.2f\" % mean_squared_error(diamonds_price_test, diamonds_price_predictor))\n",
        "print(\"Coefficient of Determination: %.2f\" % r2_score(diamonds_price_test, diamonds_price_predictor))"
      ],
      "id": "e20e1bce",
      "execution_count": null,
      "outputs": []
    },
    {
      "cell_type": "code",
      "metadata": {
        "collapsed": true,
        "ExecuteTime": {
          "end_time": "2023-10-27T04:42:29.514113800Z",
          "start_time": "2023-10-27T04:42:27.577839400Z"
        }
      },
      "source": [
        "from sklearn.linear_model import SGDRegressor\n",
        "\n",
        "sgd_reg = make_pipeline(preprocessor, SGDRegressor(max_iter=1000, tol=1e-5, penalty=None, eta0=0.01, n_iter_no_change=100, random_state=42))\n",
        "sgd_reg.fit(diamonds_features_train, diamonds_price_train)"
      ],
      "id": "85855e49",
      "execution_count": null,
      "outputs": []
    },
    {
      "cell_type": "code",
      "metadata": {
        "collapsed": true,
        "ExecuteTime": {
          "end_time": "2023-10-27T04:46:31.440390200Z",
          "start_time": "2023-10-27T04:46:31.392768Z"
        }
      },
      "source": [
        "price_predictor_sgd = sgd_reg.predict(diamonds_features_test)"
      ],
      "id": "86e31eec",
      "execution_count": null,
      "outputs": []
    },
    {
      "cell_type": "code",
      "metadata": {
        "collapsed": true,
        "ExecuteTime": {
          "end_time": "2023-10-27T04:47:14.753844800Z",
          "start_time": "2023-10-27T04:47:14.674575800Z"
        }
      },
      "source": [
        "print(\"Mean Squared Error: %.2f\" % mean_squared_error(diamonds_price_test, price_predictor_sgd))\n",
        "print(\"Coefficient of Determination: %.2f\" % r2_score(diamonds_price_test, price_predictor_sgd))"
      ],
      "id": "d4598bae",
      "execution_count": null,
      "outputs": []
    },
    {
      "cell_type": "code",
      "metadata": {
        "collapsed": true,
        "ExecuteTime": {
          "end_time": "2023-10-27T04:52:16.717464500Z",
          "start_time": "2023-10-27T04:51:28.881451600Z"
        }
      },
      "source": [
        "from sklearn.ensemble import RandomForestRegressor\n",
        "\n",
        "rfr_reg = make_pipeline(preprocessor, RandomForestRegressor())\n",
        "rfr_reg.fit(diamonds_features_train, diamonds_price_train)"
      ],
      "id": "abeee10b",
      "execution_count": null,
      "outputs": []
    },
    {
      "cell_type": "code",
      "metadata": {
        "collapsed": true,
        "ExecuteTime": {
          "end_time": "2023-10-27T04:52:22.477783800Z",
          "start_time": "2023-10-27T04:52:22.047258400Z"
        }
      },
      "source": [
        "price_predictor_rfr = rfr_reg.predict(diamonds_features_test)"
      ],
      "id": "b79ce5e0",
      "execution_count": null,
      "outputs": []
    },
    {
      "cell_type": "code",
      "metadata": {
        "collapsed": true,
        "ExecuteTime": {
          "end_time": "2023-10-27T04:52:38.698920Z",
          "start_time": "2023-10-27T04:52:38.651693800Z"
        }
      },
      "source": [
        "print(\"Mean Squared Error: %.2f\" % mean_squared_error(diamonds_price_test, price_predictor_rfr))\n",
        "print(\"Coefficient of Determination: %.2f\" % r2_score(diamonds_price_test, price_predictor_rfr))"
      ],
      "id": "fefd95a2",
      "execution_count": null,
      "outputs": []
    }
  ],
  "metadata": {
    "kernelspec": {
      "name": "python3",
      "language": "python",
      "display_name": "Python 3 (ipykernel)"
    }
  },
  "nbformat": 4,
  "nbformat_minor": 5
}